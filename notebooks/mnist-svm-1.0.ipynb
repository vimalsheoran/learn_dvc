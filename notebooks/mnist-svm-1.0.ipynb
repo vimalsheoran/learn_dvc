{
 "cells": [
  {
   "cell_type": "markdown",
   "id": "aa9826ff-7799-4d35-bbe6-fe63e7135408",
   "metadata": {},
   "source": [
    "# Imports and Configurations"
   ]
  },
  {
   "cell_type": "code",
   "execution_count": 1,
   "id": "85815106-f888-48fe-aff2-9d248fef6948",
   "metadata": {},
   "outputs": [],
   "source": [
    "import numpy as np\n",
    "#from mnist import MNIST\n",
    "import pandas as pd\n",
    "import os\n",
    "import matplotlib.pyplot as plt\n",
    "from sklearn.metrics import confusion_matrix, accuracy_score\n",
    "import seaborn as sb\n",
    "from sklearn.model_selection import ParameterGrid\n",
    "from sklearn.svm import SVC, LinearSVC\n",
    "import warnings\n",
    "import cv2\n",
    "warnings.filterwarnings('ignore')"
   ]
  },
  {
   "cell_type": "code",
   "execution_count": 16,
   "id": "01e4f63e-c704-4eb8-98d1-7e6787e212df",
   "metadata": {},
   "outputs": [],
   "source": [
    "import yaml\n",
    "with open(\"../params.yaml\") as config_file:\n",
    "    CONFIG = yaml.safe_load(config_file)"
   ]
  },
  {
   "cell_type": "markdown",
   "id": "27471366-6c23-41d5-96d5-aa2d1cce01f3",
   "metadata": {},
   "source": [
    "# Data Loading"
   ]
  },
  {
   "cell_type": "code",
   "execution_count": 3,
   "id": "a5729a2e-5d29-4f24-98a2-af8442cdcde6",
   "metadata": {},
   "outputs": [],
   "source": [
    "def load_images(path):\n",
    "    all_images = os.listdir(os.path.join(path, 'images'))\n",
    "    num_images = len(all_images)\n",
    "    images = []\n",
    "    for image in all_images:\n",
    "        images.append(\n",
    "            cv2.imread(os.path.join(path, 'images', image), \n",
    "                       cv2.IMREAD_GRAYSCALE)\n",
    "        )\n",
    "    images = np.array(images)\n",
    "    return images.reshape(num_images, 28, 28)\n",
    "\n",
    "def load_labels(path):\n",
    "    label_path = os.path.join(path, 'labels', 'labels.csv')\n",
    "    return pd.read_csv(label_path)\n",
    "\n",
    "def mean_std_normalization(data):\n",
    "    normalized_data = (data - np.mean(data))/np.std(data)\n",
    "    return normalized_data\n",
    "\n",
    "def flatten_image_input(images):\n",
    "    return np.reshape(images, \n",
    "                      (images.shape[0], images.shape[1]*images.shape[2]))"
   ]
  },
  {
   "cell_type": "code",
   "execution_count": 4,
   "id": "c6396a92-97a5-4202-ab9c-c0d0e89a62c5",
   "metadata": {
    "tags": []
   },
   "outputs": [],
   "source": [
    "project_dir = CONFIG['base']['project_path']\n",
    "train_data_path = os.path.join(project_dir, CONFIG['data_load']['train_dataset'])\n",
    "test_data_path  = os.path.join(project_dir, CONFIG['data_load']['test_dataset'])\n",
    "\n",
    "train_images, train_labels = load_images(train_data_path), load_labels(train_data_path)\n",
    "test_images, test_labels = load_images(test_data_path), load_labels(test_data_path)"
   ]
  },
  {
   "cell_type": "code",
   "execution_count": 5,
   "id": "f00fbe5e-8091-4941-9880-8d0395285b1e",
   "metadata": {},
   "outputs": [],
   "source": [
    "train_images = mean_std_normalization(train_images)\n",
    "test_images = mean_std_normalization(test_images)"
   ]
  },
  {
   "cell_type": "code",
   "execution_count": 6,
   "id": "f1312744-6fa2-4199-ab66-0abb1b588ac4",
   "metadata": {},
   "outputs": [],
   "source": [
    "train_images = flatten_image_input(train_images)\n",
    "test_images = flatten_image_input(test_images)"
   ]
  },
  {
   "cell_type": "markdown",
   "id": "5a3c33ed-4a12-4022-ae0d-64407d842ba6",
   "metadata": {},
   "source": [
    "# Fit Linear SVM"
   ]
  },
  {
   "cell_type": "code",
   "execution_count": 7,
   "id": "e9ce7ba1-9f7a-491a-bb96-f1fff7a705d9",
   "metadata": {},
   "outputs": [],
   "source": [
    "svm = LinearSVC(dual=False)"
   ]
  },
  {
   "cell_type": "code",
   "execution_count": 8,
   "id": "4b5c61a9-0bf8-4d4b-b516-4c4981dd2922",
   "metadata": {},
   "outputs": [
    {
     "data": {
      "text/html": [
       "<style>#sk-container-id-1 {color: black;background-color: white;}#sk-container-id-1 pre{padding: 0;}#sk-container-id-1 div.sk-toggleable {background-color: white;}#sk-container-id-1 label.sk-toggleable__label {cursor: pointer;display: block;width: 100%;margin-bottom: 0;padding: 0.3em;box-sizing: border-box;text-align: center;}#sk-container-id-1 label.sk-toggleable__label-arrow:before {content: \"▸\";float: left;margin-right: 0.25em;color: #696969;}#sk-container-id-1 label.sk-toggleable__label-arrow:hover:before {color: black;}#sk-container-id-1 div.sk-estimator:hover label.sk-toggleable__label-arrow:before {color: black;}#sk-container-id-1 div.sk-toggleable__content {max-height: 0;max-width: 0;overflow: hidden;text-align: left;background-color: #f0f8ff;}#sk-container-id-1 div.sk-toggleable__content pre {margin: 0.2em;color: black;border-radius: 0.25em;background-color: #f0f8ff;}#sk-container-id-1 input.sk-toggleable__control:checked~div.sk-toggleable__content {max-height: 200px;max-width: 100%;overflow: auto;}#sk-container-id-1 input.sk-toggleable__control:checked~label.sk-toggleable__label-arrow:before {content: \"▾\";}#sk-container-id-1 div.sk-estimator input.sk-toggleable__control:checked~label.sk-toggleable__label {background-color: #d4ebff;}#sk-container-id-1 div.sk-label input.sk-toggleable__control:checked~label.sk-toggleable__label {background-color: #d4ebff;}#sk-container-id-1 input.sk-hidden--visually {border: 0;clip: rect(1px 1px 1px 1px);clip: rect(1px, 1px, 1px, 1px);height: 1px;margin: -1px;overflow: hidden;padding: 0;position: absolute;width: 1px;}#sk-container-id-1 div.sk-estimator {font-family: monospace;background-color: #f0f8ff;border: 1px dotted black;border-radius: 0.25em;box-sizing: border-box;margin-bottom: 0.5em;}#sk-container-id-1 div.sk-estimator:hover {background-color: #d4ebff;}#sk-container-id-1 div.sk-parallel-item::after {content: \"\";width: 100%;border-bottom: 1px solid gray;flex-grow: 1;}#sk-container-id-1 div.sk-label:hover label.sk-toggleable__label {background-color: #d4ebff;}#sk-container-id-1 div.sk-serial::before {content: \"\";position: absolute;border-left: 1px solid gray;box-sizing: border-box;top: 0;bottom: 0;left: 50%;z-index: 0;}#sk-container-id-1 div.sk-serial {display: flex;flex-direction: column;align-items: center;background-color: white;padding-right: 0.2em;padding-left: 0.2em;position: relative;}#sk-container-id-1 div.sk-item {position: relative;z-index: 1;}#sk-container-id-1 div.sk-parallel {display: flex;align-items: stretch;justify-content: center;background-color: white;position: relative;}#sk-container-id-1 div.sk-item::before, #sk-container-id-1 div.sk-parallel-item::before {content: \"\";position: absolute;border-left: 1px solid gray;box-sizing: border-box;top: 0;bottom: 0;left: 50%;z-index: -1;}#sk-container-id-1 div.sk-parallel-item {display: flex;flex-direction: column;z-index: 1;position: relative;background-color: white;}#sk-container-id-1 div.sk-parallel-item:first-child::after {align-self: flex-end;width: 50%;}#sk-container-id-1 div.sk-parallel-item:last-child::after {align-self: flex-start;width: 50%;}#sk-container-id-1 div.sk-parallel-item:only-child::after {width: 0;}#sk-container-id-1 div.sk-dashed-wrapped {border: 1px dashed gray;margin: 0 0.4em 0.5em 0.4em;box-sizing: border-box;padding-bottom: 0.4em;background-color: white;}#sk-container-id-1 div.sk-label label {font-family: monospace;font-weight: bold;display: inline-block;line-height: 1.2em;}#sk-container-id-1 div.sk-label-container {text-align: center;}#sk-container-id-1 div.sk-container {/* jupyter's `normalize.less` sets `[hidden] { display: none; }` but bootstrap.min.css set `[hidden] { display: none !important; }` so we also need the `!important` here to be able to override the default hidden behavior on the sphinx rendered scikit-learn.org. See: https://github.com/scikit-learn/scikit-learn/issues/21755 */display: inline-block !important;position: relative;}#sk-container-id-1 div.sk-text-repr-fallback {display: none;}</style><div id=\"sk-container-id-1\" class=\"sk-top-container\"><div class=\"sk-text-repr-fallback\"><pre>LinearSVC(dual=False)</pre><b>In a Jupyter environment, please rerun this cell to show the HTML representation or trust the notebook. <br />On GitHub, the HTML representation is unable to render, please try loading this page with nbviewer.org.</b></div><div class=\"sk-container\" hidden><div class=\"sk-item\"><div class=\"sk-estimator sk-toggleable\"><input class=\"sk-toggleable__control sk-hidden--visually\" id=\"sk-estimator-id-1\" type=\"checkbox\" checked><label for=\"sk-estimator-id-1\" class=\"sk-toggleable__label sk-toggleable__label-arrow\">LinearSVC</label><div class=\"sk-toggleable__content\"><pre>LinearSVC(dual=False)</pre></div></div></div></div></div>"
      ],
      "text/plain": [
       "LinearSVC(dual=False)"
      ]
     },
     "execution_count": 8,
     "metadata": {},
     "output_type": "execute_result"
    }
   ],
   "source": [
    "svm.fit(train_images, train_labels['label'].values)"
   ]
  },
  {
   "cell_type": "code",
   "execution_count": 21,
   "id": "ae368fd8-7575-418c-bc6b-743fce7035b4",
   "metadata": {
    "tags": []
   },
   "outputs": [],
   "source": [
    "save_results_path = CONFIG['svm']['output']['fit_results']\n",
    "\n",
    "os.makedirs(os.path.join(project_dir, save_results_path), exist_ok=True)"
   ]
  },
  {
   "cell_type": "code",
   "execution_count": 22,
   "id": "53edc816-324a-4d24-9418-1edd4a1826bb",
   "metadata": {
    "tags": []
   },
   "outputs": [],
   "source": [
    "np.save(os.path.join(project_dir, save_results_path, 'coeff.npy'), svm.coef_)\n",
    "np.save(os.path.join(project_dir, save_results_path, 'intercept.npy'), svm.intercept_)"
   ]
  },
  {
   "cell_type": "code",
   "execution_count": null,
   "id": "b5e4c706-986b-4950-a28f-c28fe9373688",
   "metadata": {},
   "outputs": [],
   "source": []
  }
 ],
 "metadata": {
  "kernelspec": {
   "display_name": "Python 3 (ipykernel)",
   "language": "python",
   "name": "python3"
  },
  "language_info": {
   "codemirror_mode": {
    "name": "ipython",
    "version": 3
   },
   "file_extension": ".py",
   "mimetype": "text/x-python",
   "name": "python",
   "nbconvert_exporter": "python",
   "pygments_lexer": "ipython3",
   "version": "3.10.6"
  }
 },
 "nbformat": 4,
 "nbformat_minor": 5
}
